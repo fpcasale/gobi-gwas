{
 "cells": [
  {
   "cell_type": "code",
   "execution_count": 1,
   "id": "0f639cd1-1b63-4e0f-adb3-13389e9ef860",
   "metadata": {},
   "outputs": [],
   "source": [
    "import numpy as np\n",
    "import pdb\n",
    "from pandas_plink import read_plink\n",
    "from limix_lmm import LMM\n",
    "import pylab as plt\n",
    "import os\n",
    "import pandas as pd"
   ]
  },
  {
   "cell_type": "markdown",
   "id": "0a3083ab-1003-46dd-8d4e-e63c2669f956",
   "metadata": {},
   "source": [
    "## Loading Genetic Data from 1000 Genomes\n",
    "\n",
    "In this code segment, we are dealing with genetic data derived from the 1000 Genomes Project. Let's break down some context and terminology:\n",
    "\n",
    "- **1000 Genomes Dataset**: \n",
    "  - A comprehensive public resource that provides data on the genetic makeup of 2504 individuals from 26 different populations around the world.\n",
    "  - It's an effort to sequence the genomes of a large number of people to provide a comprehensive resource on human genetic variation.\n",
    "  - In our current scenario, we are utilizing just a subset of this extensive dataset.\n",
    "\n",
    "- **PLINK Files**:\n",
    "  - PLINK is a free, open-source whole genome association analysis toolset, which operates on a range of binary dataset types.\n",
    "  - The dataset is typically represented in three primary files:\n",
    "    - `.bim` (Binary Marker File): Contains information about the genetic markers (like SNPs).\n",
    "    - `.fam` (Family File): Contains information about the individuals (like their IDs, phenotype).\n",
    "    - `.bed` (Binary PED File): Contains the genotype data in a binary format.\n",
    "  - Together, these files give a comprehensive picture of both the individuals in the dataset and their genetic variations.\n",
    "\n",
    "- **Loading Data in Python**:\n",
    "  - The `read_plink` function from the `pandas_plink` library in Python can be used to load PLINK binary datasets.\n",
    "  - Once loaded, we can manipulate and analyze this data using standard Python tools and libraries.\n",
    "\n",
    "The code `bim, fam, G = read_plink(bfile)` essentially reads the genetic data from the specified PLINK binary files and stores the marker information in `bim`, the family/individual information in `fam`, and the genotype matrix in `G`.\n"
   ]
  },
  {
   "cell_type": "code",
   "execution_count": 2,
   "id": "b5a2b923-2dbc-4f7c-b737-d26ede58a6d3",
   "metadata": {},
   "outputs": [
    {
     "name": "stderr",
     "output_type": "stream",
     "text": [
      "Mapping files: 100%|██████████████████████████████| 3/3 [00:00<00:00, 16.97it/s]\n"
     ]
    }
   ],
   "source": [
    "# load genetic data\n",
    "bfile = '../../data/ALL.chr22_GRCh38.genotypes.20170504/ALL.chr22_GRCh38.genotypes.20170504'\n",
    "bim, fam, G = read_plink(bfile)"
   ]
  },
  {
   "cell_type": "code",
   "execution_count": 3,
   "id": "56ec6ad5-d324-4f87-8800-51613a3a8812",
   "metadata": {},
   "outputs": [],
   "source": [
    "def extract_region(bim, G, chrom, start, end):\n",
    "    I1 = bim['chrom']==str(chrom)\n",
    "    I2 = bim['pos'] > start\n",
    "    I3 = bim['pos'] < end\n",
    "    Ikeep = I1 * I2 * I3\n",
    "    bim = bim.loc[Ikeep].copy()\n",
    "    G = G[bim['i'].values]\n",
    "    bim['i'] = np.arange(len(bim))\n",
    "    return bim, G"
   ]
  },
  {
   "cell_type": "code",
   "execution_count": 4,
   "id": "18faa678-7905-44f4-89ea-8d83bc4c8222",
   "metadata": {},
   "outputs": [],
   "source": [
    "def subset_individuals(fam, G, keep_idxs):\n",
    "    fam = fam.iloc[keep_idxs]\n",
    "    G = G[:, keep_idxs]\n",
    "    return bim, G"
   ]
  },
  {
   "cell_type": "code",
   "execution_count": 5,
   "id": "65db7de6-6ede-4428-99f9-65fcd8e4521f",
   "metadata": {},
   "outputs": [],
   "source": [
    "# subset to 1000 individuals\n",
    "N = 1000\n",
    "np.random.seed(0)\n",
    "idxs = np.sort(np.random.permutation(fam.shape[0])[:N])\n",
    "fams, Gs = subset_individuals(fam, G, idxs)"
   ]
  },
  {
   "cell_type": "code",
   "execution_count": 6,
   "id": "176d0942-ee6c-4059-93d4-cccf5a8c6ed8",
   "metadata": {},
   "outputs": [],
   "source": [
    "# extract region\n",
    "chrom = 22\n",
    "start = 30797531\n",
    "size = 100000\n",
    "bimr, Gr = extract_region(bim, Gs, chrom, start, start + size)"
   ]
  },
  {
   "cell_type": "code",
   "execution_count": 7,
   "id": "95ef0841-8d48-49b5-9788-5b58f7e5d7d8",
   "metadata": {},
   "outputs": [],
   "source": [
    "# load genotype matrix\n",
    "X_real = Gr.compute().T"
   ]
  },
  {
   "cell_type": "markdown",
   "id": "8324bab1-2fe1-4425-a3d3-798eda30b2be",
   "metadata": {},
   "source": [
    "## Function: `simulate_pheno`\n",
    "\n",
    "### Description:\n",
    "The `simulate_pheno` function is designed to simulate phenotypic values based on a given genotype matrix, a set of causal variant indices, and the variance explained by these causal variants. The phenotype is simulated as the sum of the genetic component and a noise component.\n",
    "\n",
    "### Parameters:\n",
    "\n",
    "- **`X`**: Genotype matrix. Rows represent individuals, and columns represent genetic variants.\n",
    "  \n",
    "- **`idx_caus`**: A list of indices specifying which columns (genetic variants) in the `X` matrix are causal for the trait.\n",
    "  \n",
    "- **`var_expl`**: A list of variances explained by each causal variant. This indicates how much of the phenotypic variance each causal variant explains. The sum of `var_expl` values should be less than 1.\n",
    "\n",
    "- **`direction`** (optional): A list of directions for the effect of each causal variant. If not provided, it is randomly assigned as either positive or negative for each causal variant.\n",
    "\n",
    "### Returns:\n",
    "\n",
    "- **`y`**: The simulated phenotypic values. It's the sum of the genetic component and a noise component.\n",
    "  \n",
    "- **`beta_real`**: The real effect sizes of all variants in `X` after standardization.\n",
    "\n",
    "### Notes:\n",
    "The genetic component of the phenotype is determined by the genotypes of the causal variants, their effect sizes, and their directions. The noise component is normally distributed random noise. The phenotypic values (`y`) are then standardized to have a mean of 0 and a standard deviation of 1. The real effect sizes (`beta_real`) are adjusted accordingly after standardizing `y`.\n"
   ]
  },
  {
   "cell_type": "code",
   "execution_count": 8,
   "id": "2924baa9-338b-417a-8c6d-c86047ba02ad",
   "metadata": {},
   "outputs": [],
   "source": [
    "def simulate_pheno(X, idx_caus, var_expl, direction=None):\n",
    "    # Ensure that the number of causal variant indices matches the number of variances explained.\n",
    "    assert len(idx_caus) == len(var_expl)\n",
    "    \n",
    "    # If no direction is provided, randomly assign a positive or negative direction for each causal variant.\n",
    "    if direction is None:\n",
    "        direction = 2. * (np.random.rand(len(idx_caus)) > 0.5) - 1.\n",
    "    # Ensure that the number of directions matches the number of causal variant indices.\n",
    "    assert len(idx_caus) == len(direction)\n",
    "    \n",
    "    # Compute the remaining variance after accounting for the variance explained by the causal variants.\n",
    "    ve = 1 - var_expl.sum()\n",
    "    # Ensure that the total variance explained by causal variants is less than 1.\n",
    "    assert ve > 0, 'sum(var_expl) should be < 1'\n",
    "    \n",
    "    # Compute the effect sizes for the causal variants based on the variance they explain and their direction.\n",
    "    beta = np.sqrt(var_expl) * direction\n",
    "    \n",
    "    # Extract the columns of X corresponding to the causal variants and standardize them.\n",
    "    Xc = X[:, idx_caus]\n",
    "    Xc = (Xc - Xc.mean(0)) / Xc.std(0)\n",
    "    \n",
    "    # Compute the genetic component of the phenotype.\n",
    "    yg = Xc.dot(beta)[:, None]\n",
    "    # Compute the noise component of the phenotype.\n",
    "    yn = np.sqrt(ve) * np.random.randn(X.shape[0], 1)\n",
    "    \n",
    "    # Sum the genetic and noise components to get the simulated phenotype.\n",
    "    y = yg + yn\n",
    "    \n",
    "    # Initialize the real effect sizes for all variants in X as zeros.\n",
    "    beta_real = np.zeros(X.shape[1])\n",
    "    # Update the real effect sizes for the causal variants.\n",
    "    beta_real[idx_caus] = beta\n",
    "    \n",
    "    # Standardize the phenotypic values to have mean 0 and standard deviation 1.\n",
    "    ystd = y.std()\n",
    "    y = (y - y.mean()) / ystd\n",
    "    # Adjust the real effect sizes accordingly after standardizing y.\n",
    "    beta_real = beta_real / ystd\n",
    "    \n",
    "    return y, beta_real"
   ]
  },
  {
   "cell_type": "code",
   "execution_count": 9,
   "id": "0803b62b-8959-4413-912b-46964f5d331b",
   "metadata": {},
   "outputs": [],
   "source": [
    "def qq_plot(ax, p_values):\n",
    "    \"\"\"\n",
    "    Create a QQ plot given a list of p-values.\n",
    "\n",
    "    Parameters:\n",
    "    - p_values: list of p-values\n",
    "    - figsize: size of the plot\n",
    "    - title: title for the plot\n",
    "    \"\"\"\n",
    "\n",
    "    # Sort p-values\n",
    "    observed = -np.log10(np.sort(p_values))\n",
    "    expected = -np.log10(np.arange(1, len(p_values) + 1) / (len(p_values) + 2))\n",
    "\n",
    "    # Create the QQ plot\n",
    "    plt.scatter(expected, observed, marker='.')\n",
    "    plt.plot([0, max(expected)], [0, max(expected)], color='red', linestyle='--')\n",
    "    plt.xlabel('Expected -log10(P-value)')\n",
    "    plt.ylabel('Observed -log10(P-value)')"
   ]
  },
  {
   "cell_type": "markdown",
   "id": "3917ea8c-c265-400f-8fe7-640d12865024",
   "metadata": {},
   "source": [
    "## Simulate pheno, perform local GWAS and compare groundtruth with GWAS results\n",
    "\n",
    "### Code Explanation\n",
    "\n",
    "- **Data Source Decision**: \n",
    "  - There's a variable called `simulated_data` that decides if the genetic data (`X`) is simulated or taken from a real dataset (`X_real`).\n",
    "  - If `simulated_data` is set to `True`, the genotype matrix `X` is generated using a binomial distribution based on the mean allele frequency of the real dataset (`X_real`).\n",
    "  - If set to `False`, the code uses the `X_real` as the genotype matrix.\n",
    "\n",
    "- **Phenotype Simulation**: \n",
    "  - The phenotype `y` is generated using the function `simulate_pheno` based on the genotype matrix, indices of causal variants (`idx_caus`), and variance explained by these causal variants (`var_expl`).\n",
    "\n",
    "- **Genetic Association Testing**:\n",
    "  - A linear mixed model (`LMM`) is used to test the association between genotypes and the simulated phenotype.\n",
    "  - The results include p-values (`pv`) indicating the significance of the association, the effect sizes (`beta`), and the standard error of these effect sizes (`beta_ste`).\n",
    "\n",
    "- **Visualization**:\n",
    "  - The real effect sizes (`beta_real`) and the association results are visualized using two subplots.\n",
    "  - Additionally, a QQ plot is generated to compare the distribution of the observed p-values to the expected uniform distribution.\n",
    "  \n",
    "---\n",
    "  \n",
    "### Activity\n",
    "\n",
    "Now that you understand the code's flow and functionality, it's your turn to experiment with it and observe the effects of different parameters. Here are some questions to guide your exploration:\n",
    "\n",
    "1. **Linkage Disequilibrium (LD) Effects**:\n",
    "   - What happens when you switch between simulated and real genetic data? How do the GWAS results differ, especially in terms of the distribution of p-values?\n",
    "   \n",
    "2. **Number of Causal Variants**:\n",
    "   - Currently, only 1 causal variant (`n_causal = 1`) is selected at random. What happens if you increase this number? Try 2, 5, or even 10. How do the results change, especially in terms of power and false discovery rate?\n",
    "\n",
    "3. **Variance Explained**:\n",
    "   - The current variance explained by the causal variant is set to 0.05 (`var_expl = np.array([0.05])`). How do the results vary if you increase or decrease this value?\n",
    "\n",
    "4. **Combining Factors**:\n",
    "   - How do the results change when you vary both the number of causal variants and the variance they explain simultaneously?\n",
    "\n",
    "---\n",
    "\n",
    "Experiment with these questions, modify the code, and see how the visualizations and outcomes change. This exercise will give you a deeper understanding of how different factors impact genetic association results.\n"
   ]
  },
  {
   "cell_type": "code",
   "execution_count": 10,
   "id": "b0d2fd1a-7231-489d-b757-26e6c9234f03",
   "metadata": {},
   "outputs": [],
   "source": [
    "# Variable to decide if the data is simulated or real\n",
    "simulated_data = True\n",
    "\n",
    "# If the data is simulated\n",
    "if simulated_data:\n",
    "    X = np.random.binomial(2, 0.5 * X_real.mean(0), (N, X_real.shape[1]))\n",
    "else:\n",
    "    X_real = X"
   ]
  },
  {
   "cell_type": "code",
   "execution_count": 11,
   "id": "cfc8d483-13c9-4169-9935-0c3408156baf",
   "metadata": {},
   "outputs": [],
   "source": [
    "# Generate phenotype\n",
    "n_causal = 1\n",
    "idx_caus = np.random.choice(X.shape[1], size=n_causal)\n",
    "var_expl = np.array([0.05])\n",
    "y, beta_real = simulate_pheno(X, idx_caus, var_expl)"
   ]
  },
  {
   "cell_type": "code",
   "execution_count": 12,
   "id": "b0150e37-1ebe-422c-90b4-d5f33bd23d5b",
   "metadata": {},
   "outputs": [],
   "source": [
    "# Perform genetic association testing \n",
    "F = np.ones_like(y)\n",
    "lmm = LMM(y, F)\n",
    "lmm.process(X)\n",
    "pv = lmm.getPv()\n",
    "beta = lmm.getBetaSNP()\n",
    "beta_ste = lmm.getBetaSNPste()"
   ]
  },
  {
   "cell_type": "code",
   "execution_count": 13,
   "id": "ddefba1a-df58-421b-a6da-d1193d11fdc4",
   "metadata": {},
   "outputs": [
    {
     "data": {
      "image/png": "[encoded data removed]",
      "text/plain": [
       "<Figure size 360x360 with 1 Axes>"
      ]
     },
     "metadata": {
      "needs_background": "light"
     },
     "output_type": "display_data"
    }
   ],
   "source": [
    "# Create and show QQ plot\n",
    "plt.figure(figsize=(5,5))\n",
    "ax = plt.subplot(111)\n",
    "plt.title('QQ-plot of P-values')\n",
    "qq_plot(ax, pv)\n",
    "plt.show()"
   ]
  },
  {
   "cell_type": "code",
   "execution_count": 14,
   "id": "9d15bd3d-e99d-4e88-ba65-f69e11257815",
   "metadata": {},
   "outputs": [
    {
     "data": {
      "image/png": "[encoded data removed]",
      "text/plain": [
       "<Figure size 432x288 with 2 Axes>"
      ]
     },
     "metadata": {
      "needs_background": "light"
     },
     "output_type": "display_data"
    }
   ],
   "source": [
    "# Plot ground truth and results\n",
    "x = bimr['pos'].values\n",
    "plt.subplot(211)\n",
    "plt.title('Real effect size')\n",
    "plt.plot(x, beta_real, '.k')\n",
    "plt.ylabel('eff size')\n",
    "plt.subplot(212)\n",
    "plt.title('GWAS results')\n",
    "plt.plot(x, -np.log10(pv), '.k')\n",
    "plt.ylabel('-log$_{10}$ P')\n",
    "plt.tight_layout()\n",
    "plt.show()"
   ]
  },
  {
   "cell_type": "markdown",
   "id": "6e17e736-66ca-4573-b7d5-1349a823d0a2",
   "metadata": {},
   "source": [
    "#### Open Question\n",
    "Play with the parameters adn describe what you see in the clearest adn shortest way possible"
   ]
  },
  {
   "cell_type": "markdown",
   "id": "5eb65a8e-07b6-4580-aa96-ef5f0c77f527",
   "metadata": {},
   "source": [
    "## Assignment for Next Session: GCTA Analysis\n",
    "\n",
    "In this assignment, you will work with **GCTA** (Genome-wide Complex Trait Analysis). GCTA is one of the most frequently used software tools for genetic association studies, primarily due to its speed and robustness. It has been widely adopted by the scientific community for performing large-scale genetic analyses.\n",
    "\n",
    "[GCTA's official website](https://yanglab.westlake.edu.cn/software/gcta/#Overview) contains documentation and download instructions. For our session, please make sure to install and familiarize yourself with it.\n",
    "\n",
    "### The Task:\n",
    "\n",
    "1. **Phenotype Simulation**: Using the provided code, simulate a phenotype based on a genotype matrix. \n",
    "2. **File Exportation**: Export the phenotype and covariates in the required format for GCTA.\n",
    "3. **Run GCTA**: Execute the GCTA command to perform a genome-wide association analysis on the simulated data.\n",
    "4. **Results Importation**: Once GCTA has processed the data, import the results back into Python using pandas.\n",
    "\n",
    "Here's the provided code block to help you get started:"
   ]
  },
  {
   "cell_type": "code",
   "execution_count": 23,
   "id": "81d75a5f-e370-466c-97e9-8e4144cf25bc",
   "metadata": {},
   "outputs": [],
   "source": [
    "# Assuming X is your genotype matrix, which should be defined or imported beforehand.\n",
    "n_causal = 1\n",
    "idx_caus = np.random.choice(X.shape[1], size=n_causal)\n",
    "var_expl = np.array([0.05])\n",
    "y, _ = simulate_pheno(X, idx_caus, var_expl)"
   ]
  },
  {
   "cell_type": "code",
   "execution_count": 24,
   "id": "8ee8691a-3135-4905-aa76-27a3da8e0e48",
   "metadata": {},
   "outputs": [],
   "source": [
    "# Step 2: Export phenotype in the right format for GCTA\n",
    "pheno_file = \"pheno.txt\"\n",
    "with open(pheno_file, \"w\") as f:\n",
    "    for value in y:\n",
    "        f.write(str(value[0]) + '\\n')\n",
    "\n",
    "# Define arbitrary random covariates and save them\n",
    "dcovars_file = \"covars.txt\"\n",
    "num_samples, num_features = X.shape\n",
    "covariates = np.random.rand(num_samples, 5)  # Assuming 5 random covariates\n",
    "np.savetxt(dcovars_file, covariates, delimiter=\"\\t\")"
   ]
  },
  {
   "cell_type": "code",
   "execution_count": 25,
   "id": "65fdf96a-014f-4e1e-8219-b912fcc387bb",
   "metadata": {},
   "outputs": [
    {
     "name": "stderr",
     "output_type": "stream",
     "text": [
      "sh: /path/to/gcta: No such file or directory\n"
     ]
    },
    {
     "data": {
      "text/plain": [
       "32512"
      ]
     },
     "execution_count": 25,
     "metadata": {},
     "output_type": "execute_result"
    }
   ],
   "source": [
    "# Step 3: Run GCTA\n",
    "\n",
    "# Replace these with your own settings\n",
    "gcta_path = \"/path/to/gcta\"\n",
    "mbfile = \"/path/to/mbfile\"\n",
    "maf_value = 0.05\n",
    "output_file = \"gcta_results\"\n",
    "\n",
    "command = (\n",
    "    f\"{gcta_path} \"\n",
    "    f\"--mbfile {mbfile} \"\n",
    "    f\"--maf {maf_value} \"\n",
    "    f\"--pheno {pheno_file} \"\n",
    "    f\"--mpheno 1 \"\n",
    "    f\"--covar {dcovars_file} \"\n",
    "    f\"--out {output_file} \"\n",
    "    f\"--fastGWA-lr \"\n",
    "    f\"--nofilter \"\n",
    "    f\"--seed 0\"\n",
    ")\n",
    "os.system(command)"
   ]
  },
  {
   "cell_type": "code",
   "execution_count": 21,
   "id": "bff153a4-cb46-462c-87b1-10913ec355e0",
   "metadata": {},
   "outputs": [
    {
     "ename": "NameError",
     "evalue": "name 'pd' is not defined",
     "output_type": "error",
     "traceback": [
      "\u001b[0;31m---------------------------------------------------------------------------\u001b[0m",
      "\u001b[0;31mNameError\u001b[0m                                 Traceback (most recent call last)",
      "Cell \u001b[0;32mIn [21], line 3\u001b[0m\n\u001b[1;32m      1\u001b[0m \u001b[38;5;66;03m# Step 4: Import the results with pandas\u001b[39;00m\n\u001b[0;32m----> 3\u001b[0m results \u001b[38;5;241m=\u001b[39m \u001b[43mpd\u001b[49m\u001b[38;5;241m.\u001b[39mread_csv(\u001b[38;5;124mf\u001b[39m\u001b[38;5;124m\"\u001b[39m\u001b[38;5;132;01m{\u001b[39;00moutput_file\u001b[38;5;132;01m}\u001b[39;00m\u001b[38;5;124m.assoc.txt\u001b[39m\u001b[38;5;124m\"\u001b[39m, sep\u001b[38;5;241m=\u001b[39m\u001b[38;5;124m\"\u001b[39m\u001b[38;5;130;01m\\t\u001b[39;00m\u001b[38;5;124m\"\u001b[39m)\n\u001b[1;32m      4\u001b[0m \u001b[38;5;28mprint\u001b[39m(results)\n",
      "\u001b[0;31mNameError\u001b[0m: name 'pd' is not defined"
     ]
    }
   ],
   "source": [
    "# Step 4: Import the results with pandas\n",
    "\n",
    "results = pd.read_csv(f\"{output_file}.assoc.txt\", sep=\"\\t\")\n",
    "print(results)"
   ]
  },
  {
   "cell_type": "markdown",
   "id": "1b8edaf2-827b-4237-afd0-ac7b7e4b7899",
   "metadata": {},
   "source": [
    "#### Clump the results using PLINK"
   ]
  },
  {
   "cell_type": "markdown",
   "id": "625f4e27-8927-48c5-b21c-a123d9cb54d9",
   "metadata": {},
   "source": [
    "#### Question\n",
    "* Replicate state-of-the-art GWAS on a single chromosome using plink and clumping\n",
    "* Get the best single chromosome manhattan plot you can (show clumps, optimize for beauty, etc)"
   ]
  },
  {
   "cell_type": "code",
   "execution_count": null,
   "id": "372b36c3-73eb-4d5b-9534-853c0b035a64",
   "metadata": {},
   "outputs": [],
   "source": []
  }
 ],
 "metadata": {
  "kernelspec": {
   "display_name": "Python 3 (ipykernel)",
   "language": "python",
   "name": "python3"
  },
  "language_info": {
   "codemirror_mode": {
    "name": "ipython",
    "version": 3
   },
   "file_extension": ".py",
   "mimetype": "text/x-python",
   "name": "python",
   "nbconvert_exporter": "python",
   "pygments_lexer": "ipython3",
   "version": "3.9.7"
  }
 },
 "nbformat": 4,
 "nbformat_minor": 5
}
