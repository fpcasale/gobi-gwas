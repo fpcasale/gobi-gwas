{
 "cells": [
  {
   "cell_type": "code",
   "execution_count": 2,
   "id": "0f639cd1-1b63-4e0f-adb3-13389e9ef860",
   "metadata": {},
   "outputs": [],
   "source": [
    "import numpy as np\n",
    "import pdb\n",
    "from pandas_plink import read_plink\n",
    "from limix_lmm import LMM\n",
    "import matplotlib.pyplot as plt\n",
    "import pandas as pd\n",
    "import scipy.stats as st\n",
    "import statsmodels.api as sm\n",
    "from sklearn.preprocessing import StandardScaler\n",
    "from tqdm import tqdm\n",
    "from statsmodels.stats.multitest import multipletests\n",
    "import seaborn as sns"
   ]
  },
  {
   "cell_type": "markdown",
   "id": "f8305d7b-9df9-4b5f-8383-ff99223ddfa8",
   "metadata": {},
   "source": [
    "## Linear regression"
   ]
  },
  {
   "cell_type": "markdown",
   "id": "a63629f8-7d32-4db2-9435-6938ed2c6c59",
   "metadata": {},
   "source": [
    "#### Generate data"
   ]
  },
  {
   "cell_type": "code",
   "execution_count": 3,
   "id": "6b6e1e79-bc3d-4c7c-87e4-bd55e89c71a6",
   "metadata": {},
   "outputs": [],
   "source": [
    "# Define the sample size and number of covariates\n",
    "N = 5000\n",
    "K = 3\n",
    "\n",
    "# Generate the covariate matrix and the true effect sizes\n",
    "X = np.hstack([np.ones((N, 1)), np.random.randn(N, K)])\n",
    "\n",
    "beta_true = np.linspace(0.1, 0.4, K+1)\n",
    "\n",
    "# Generate the phenotype\n",
    "y = X.dot(beta_true) + np.random.randn(N)"
   ]
  },
  {
   "cell_type": "markdown",
   "id": "536826a1-412b-46b6-98b8-0b27b8ee0bab",
   "metadata": {},
   "source": [
    "Compute MLE for beta and sigma^2 and the log marginal likelihood of the model.\n",
    "\n",
    "Parameters:\n",
    "- y: observed data\n",
    "- X: design matrix with covariates (without intercept)\n",
    "\n",
    "Returns:\n",
    "- beta_hat: MLE of beta\n",
    "- beta_se: Standard errors of beta\n",
    "- sigma2_hat: MLE of sigma squared\n",
    "- log_marginal_likelihood: log marginal likelihood of the model"
   ]
  },
  {
   "cell_type": "code",
   "execution_count": 4,
   "id": "43c9eb6f-5047-484b-b0b2-684c701fd077",
   "metadata": {},
   "outputs": [],
   "source": [
    "def compute_MLE_and_LML(y, X):\n",
    "    \"\"\"\n",
    "    Compute MLE for beta and sigma^2, standard errors for beta, \n",
    "    and the log marginal likelihood of the model.\n",
    "    \n",
    "    Parameters:\n",
    "    - y: observed data\n",
    "    - X: design matrix with covariates\n",
    "    \n",
    "    Returns:\n",
    "    - beta_hat: MLE of beta\n",
    "    - beta_se: Standard errors for beta\n",
    "    - sigma2_hat: MLE of sigma squared\n",
    "    - log_marginal_likelihood: log marginal likelihood of the model\n",
    "    \"\"\"\n",
    "    \n",
    "    # COMPLETE\n",
    "    \n",
    "    return beta_hat, beta_se, sigma2_hat, log_marginal_likelihood"
   ]
  },
  {
   "cell_type": "code",
   "execution_count": 5,
   "id": "7958670f-1a13-47a5-bfca-018c59da72ef",
   "metadata": {},
   "outputs": [],
   "source": [
    "# Add a bias term (intercept) to X\n",
    "beta_hat, beta_se, sigma2_hat, lml = compute_MLE_and_LML(y, X)"
   ]
  },
  {
   "cell_type": "code",
   "execution_count": 6,
   "id": "1817a568-a352-4d7e-893b-c6e841bcf41b",
   "metadata": {},
   "outputs": [
    {
     "name": "stdout",
     "output_type": "stream",
     "text": [
      "MLE of effect size (beta): [0.08331547 0.21504484 0.29640763 0.3906177 ]\n",
      "Standard errors of effect size (beta_se): [0.01424222 0.01449163 0.01439509 0.01432358]\n",
      "MLE of residual variance (sigma2): 1.0138\n",
      "LML: -7128.8354\n"
     ]
    }
   ],
   "source": [
    "print(f\"MLE of effect size (beta):\", beta_hat)\n",
    "print(f\"Standard errors of effect size (beta_se):\", beta_se)\n",
    "print(f\"MLE of residual variance (sigma2): {sigma2_hat:.4f}\")\n",
    "print(f\"LML: {lml:.4f}\")"
   ]
  },
  {
   "cell_type": "markdown",
   "id": "f292dc89-cc54-401e-babc-084685b8fd20",
   "metadata": {},
   "source": [
    "#### Questions:\n",
    "* Complete Compute_MLE_and_LML\n",
    "* Explain simulation strategy line by line\n",
    "* Plot Estimated vs True Beta with Standrd errors\n",
    "* What happens if you increase sample size? $500\\longrightarrow{1000}\\longrightarrow{5000}$"
   ]
  },
  {
   "cell_type": "markdown",
   "id": "3151a863-0fed-401a-80f5-917da17a448a",
   "metadata": {},
   "source": [
    "## Linear models for genetics"
   ]
  },
  {
   "cell_type": "markdown",
   "id": "e3137726-7883-4892-a9f7-384ac58e233d",
   "metadata": {},
   "source": [
    "**Objectives:**\n",
    "- **Given \\(N=500\\) samples:**\n",
    "    1. Generate age, sex, and one genotype.\n",
    "    2. Generate a phenotype as a linear function of age and sex (null model).\n",
    "- **Build a lrt_test function:**\n",
    "    1. Function should take as input: phenotype, covariates (age and sex), and genotype vector.\n",
    "    2. Returns should include: effect size (beta), standard error (se), and p-value."
   ]
  },
  {
   "cell_type": "markdown",
   "id": "33a10805-0056-45db-8450-40a1e0dac122",
   "metadata": {},
   "source": [
    "#### Generate data"
   ]
  },
  {
   "cell_type": "code",
   "execution_count": 9,
   "id": "9d91ce75-7f49-4e85-80c2-629406a5b5b2",
   "metadata": {},
   "outputs": [],
   "source": [
    "# Set seed for reproducibility\n",
    "np.random.seed(42)\n",
    "\n",
    "# Number of samples\n",
    "N = 500\n",
    "\n",
    "# Generate random age between 20 and 80\n",
    "age = np.random.randint(20, 80, (N, 1))\n",
    "\n",
    "# Generate random sex (0 = male, 1 = female)\n",
    "sex = np.random.randint(0, 2, (N, 1))\n",
    "\n",
    "# Generate random genotype (0, 1, or 2) using binomial with 2 trials and specified allele frequency\n",
    "maf = 0.3 # minor allele frequency\n",
    "genotype = np.random.binomial(2, maf, (N, 1))\n",
    "\n",
    "# Generate phenotype\n",
    "variance_age = 0.10\n",
    "variance_sex = 0.10\n",
    "variance_genotype = 0.\n",
    "variance_noise = 1 - variance_age - variance_sex - variance_genotype\n",
    "phenotype = np.sqrt(variance_age) * StandardScaler().fit_transform(age)\n",
    "phenotype+= np.sqrt(variance_sex) * StandardScaler().fit_transform(sex)\n",
    "phenotype+= np.sqrt(variance_genotype) * StandardScaler().fit_transform(genotype)\n",
    "phenotype+= np.sqrt(variance_noise) * np.random.normal(0, 1, (N, 1))"
   ]
  },
  {
   "cell_type": "code",
   "execution_count": 10,
   "id": "6059fca8-0bf4-49ae-a88c-8e3258ac3587",
   "metadata": {},
   "outputs": [],
   "source": [
    "# final data\n",
    "F = np.column_stack((np.ones(N), age, sex))\n",
    "g = genotype\n",
    "y = phenotype"
   ]
  },
  {
   "cell_type": "code",
   "execution_count": 11,
   "id": "39e75292-3fb5-4fc6-ac59-d5d71954e1d1",
   "metadata": {},
   "outputs": [],
   "source": [
    "def lrt_test(y, F, g):\n",
    "    \"\"\"\n",
    "    Conducts a likelihood ratio test for a given genotype and set of covariates.\n",
    "    \n",
    "    Parameters:\n",
    "    - y: observed data (phenotype)\n",
    "    - F: design matrix for null model (covariates without genotype)\n",
    "    - g: genotype data\n",
    "    \n",
    "    Returns:\n",
    "    - beta_geno: Effect size of genotype under the alternative model\n",
    "    - beta_se_geno: Standard error of the effect size of genotype under the alternative model\n",
    "    - p_value: p-value from the likelihood ratio test\n",
    "    \"\"\"\n",
    "    \n",
    "    # TODO\n",
    "    \n",
    "    return beta_geno[0], beta_se_geno[0], p_value"
   ]
  },
  {
   "cell_type": "code",
   "execution_count": 12,
   "id": "f99695da-4c89-4c07-8b50-fa7b8ca93750",
   "metadata": {},
   "outputs": [
    {
     "name": "stdout",
     "output_type": "stream",
     "text": [
      "Effect size of genotype: 0.0003\n",
      "Standard error: 0.1320\n",
      "P-value: 0.9966\n"
     ]
    }
   ],
   "source": [
    "# Call the lrt_test function\n",
    "beta_geno, beta_se_geno, p_value = lrt_test(y, F, g)\n",
    "print(f\"Effect size of genotype: {beta_geno:.4f}\")\n",
    "print(f\"Standard error: {beta_se_geno:.4f}\")\n",
    "print(f\"P-value: {p_value:.4f}\")"
   ]
  },
  {
   "cell_type": "markdown",
   "id": "149340f0-c8a4-48d7-99ff-bd96bf09d7d5",
   "metadata": {},
   "source": [
    "#### Questions:\n",
    "* Complete lrt_test\n",
    "* Explain simulation strategy line by line\n",
    "* What happens to beta, standard errors adn P values if you increase sample size? Why?"
   ]
  },
  {
   "cell_type": "markdown",
   "id": "60e64f4d-6e1d-4f48-836a-0b5d4d650f0e",
   "metadata": {},
   "source": [
    "## Assessing the Distribution of P-values Under the Null\n",
    "\n",
    "To understand the behavior of our statistical test under the null hypothesis, we will simulate data where the true genetic effect is zero and evaluate the distribution of resulting p-values from the likelihood ratio test. This helps in verifying whether our test maintains the desired type I error rate.\n",
    "\n",
    "### Steps:\n",
    "\n",
    "1. **Loop Over Simulations**: \n",
    "   - We'll perform this process for 10,000 iterations to ensure a robust assessment of the p-value distribution.\n",
    "   \n",
    "2. **Generate a Random Genetic Variant**:\n",
    "   - In each iteration, simulate a genetic variant to be tested.\n",
    "   \n",
    "3. **Simulate Phenotype Under the Null**:\n",
    "   - Use the `simulate_phenotype` function to generate phenotypic values. Ensure the genetic variance (`variance_genotype`) is set to zero to simulate data under the null hypothesis.\n",
    "   \n",
    "4. **Perform the Likelihood Ratio Test**:\n",
    "   - For each simulated dataset, apply the `lrt_test` function to obtain a p-value. This p-value indicates the significance of the genetic variant's association with the phenotype in the context of the given covariates.\n",
    "   \n",
    "5. **Collect and Analyze P-values**:\n",
    "   - Store the p-values from each iteration in a list.\n",
    "   - Plot a histogram to visualize the distribution of these p-values.\n",
    "   - Create a QQ (quantile-quantile) plot to compare the distribution of our p-values to what we'd expect under the null hypothesis. A QQ plot helps in identifying systematic deviations from the expected uniform distribution of p-values under the null.\n",
    "\n",
    "By the end of this analysis, we aim to validate that when there's truly no genetic effect, our test yields a uniform distribution of p-values, thereby maintaining the nominal type I error rate.\n"
   ]
  },
  {
   "cell_type": "code",
   "execution_count": 13,
   "id": "a7f17aaa-5b62-4e80-8cc6-db3730e25d86",
   "metadata": {},
   "outputs": [],
   "source": [
    "def simulate_phenotype(g, variance_genotype, N):\n",
    "    \"\"\"\n",
    "    Simulates a phenotype based on a genetic variant.\n",
    "    \n",
    "    Parameters:\n",
    "    - g: Genetic variant\n",
    "    - variance_genotype: Variance explained by the genetic variant\n",
    "    - N: Number of samples\n",
    "    \n",
    "    Returns:\n",
    "    - phenotype: Simulated phenotype\n",
    "    \"\"\"\n",
    "    \n",
    "    # Ensure that g has the right shape\n",
    "    if len(g.shape) == 1:\n",
    "        g = g.reshape((N, 1))\n",
    "    \n",
    "    # Calculate variance due to noise\n",
    "    variance_noise = 1 - variance_genotype\n",
    "    \n",
    "    # Generate phenotype\n",
    "    phenotype = np.sqrt(variance_genotype) * StandardScaler().fit_transform(g)\n",
    "    phenotype += np.sqrt(variance_noise) * np.random.normal(0, 1, (N, 1))\n",
    "    \n",
    "    return phenotype"
   ]
  },
  {
   "cell_type": "code",
   "execution_count": 14,
   "id": "3c229154-75b9-4cb2-bcbd-43d8fa6c4017",
   "metadata": {},
   "outputs": [],
   "source": [
    "# Parameters\n",
    "N = 500\n",
    "iterations = 10000\n",
    "maf = 0.3"
   ]
  },
  {
   "cell_type": "code",
   "execution_count": 15,
   "id": "f4861c8e-df2f-47ec-b01e-271e68bda4ce",
   "metadata": {},
   "outputs": [
    {
     "name": "stderr",
     "output_type": "stream",
     "text": [
      "100%|███████████████████████████████████| 10000/10000 [00:04<00:00, 2376.03it/s]\n"
     ]
    }
   ],
   "source": [
    "# Initializing list for p-values\n",
    "p_values = []\n",
    "\n",
    "# Progress loop\n",
    "for _ in tqdm(range(iterations)):\n",
    "    # TODO: Generate random genetic variant (0, 1, or 2)\n",
    "    \n",
    "    # TODO: Simulate phenotype under the null\n",
    "    \n",
    "    # TODO: Generate random covariates (For simplicity, let's consider an intercept term only)\n",
    "    \n",
    "    # TODO: Perform the likelihood ratio test and store the p-value"
   ]
  },
  {
   "cell_type": "code",
   "execution_count": 3,
   "id": "8d7a476f-277d-42f3-a29a-ca77aa17989c",
   "metadata": {},
   "outputs": [],
   "source": [
    "# Plot histogram of p-values"
   ]
  },
  {
   "cell_type": "code",
   "execution_count": 2,
   "id": "bce4de5a-fb7e-44f6-8bde-960fedbd8287",
   "metadata": {},
   "outputs": [],
   "source": [
    "# TODO: make QQ plot"
   ]
  },
  {
   "cell_type": "markdown",
   "id": "488fdf7c-5365-4ee3-a6e2-161fc5c05f5f",
   "metadata": {},
   "source": [
    "#### Questions:\n",
    "* Complete loop to generate data from null and get null pvalues\n",
    "* Make P value and QQ plot\n",
    "* Compute lambda genetic control"
   ]
  },
  {
   "cell_type": "markdown",
   "id": "b9fdf7f4-b5ca-476a-b097-87643d9d99d0",
   "metadata": {},
   "source": [
    "## Simulating Data and Assessing Multiple Testing Corrections Under the Alternative Model\n",
    "\n",
    "To investigate the behavior of our statistical tests under the alternative hypothesis, where a genetic variant has an effect on the phenotype, we'll simulate such scenarios. Further, we will apply multiple testing corrections and assess their impact.\n",
    "\n",
    "### Steps:\n",
    "\n",
    "1. **Loop Over Simulations**:\n",
    "   - Iterate through a predefined number of simulations, e.g., 10,000 times, to generate robust results.\n",
    "   \n",
    "2. **Generate a Random Genetic Variant**:\n",
    "   - In each loop, simulate a genetic variant.\n",
    "   \n",
    "3. **Simulate Phenotype Under the Alternative**:\n",
    "   - Use the `simulate_phenotype` function. This time, set the `variance_genotype` to a non-zero value, representing a genuine genetic effect on the phenotype.\n",
    "   \n",
    "4. **Conduct Statistical Tests**:\n",
    "   - Apply the `lrt_test` function on each dataset to get p-values, testing the association of the genetic variant with the phenotype.\n",
    "   \n",
    "5. **After getting all P values, Apply Multiple Testing Corrections**:\n",
    "   \n",
    "   a. **Bonferroni Correction**:\n",
    "      - Adjust the p-values using Bonferroni correction.\n",
    "      - Determine the number of significant tests at a given alpha, e.g., 0.05.\n",
    "   \n",
    "   b. **False Discovery Rate (FDR) Control**:\n",
    "      - Use an FDR control method, like Benjamini-Hochberg, to adjust the p-values.\n",
    "      - Identify the number of significant tests at a chosen q-value threshold, e.g., 0.05.\n",
    "   \n",
    "6. **Evaluate Test Power**:\n",
    "   - Based on the true simulated effects and the test results, compute the power, representing the proportion of true positives out of all positives.\n",
    "   \n",
    "7. **Visualize Results**:\n",
    "   \n",
    "   a. **QQ Plots**:\n",
    "      - Generate QQ plots for raw p-values and for those adjusted using each correction method.\n",
    "\n",
    "By following these steps, we'll simulate data under the alternative hypothesis, apply multiple testing corrections, and evaluate their outcomes in the context of genetic studies.\n"
   ]
  },
  {
   "cell_type": "code",
   "execution_count": null,
   "id": "1a591a65-ce8f-464c-ac03-22632c02a253",
   "metadata": {},
   "outputs": [],
   "source": [
    "# code for power analysis\n",
    "alpha = 0.05\n",
    "\n",
    "# Multiple testing corrections\n",
    "rejected_bonferroni, pvals_bonferroni, _, _ = multipletests(p_values, alpha=alpha, method='bonferroni')\n",
    "rejected_fdr, pvals_fdr, _, _ = multipletests(p_values, alpha=alpha, method='fdr_bh')\n",
    "\n",
    "# Number of discoveries\n",
    "num_discoveries_bonferroni = sum(rejected_bonferroni)\n",
    "num_discoveries_fdr = sum(rejected_fdr)\n",
    "\n",
    "# Results\n",
    "print(f\"Number of significant associations using Bonferroni correction: {num_discoveries_bonferroni}/{iterations} (power = {num_discoveries_bonferroni/iterations})\")\n",
    "print(f\"Number of significant associations using FDR control: {num_discoveries_fdr}/{iterations} (power = {num_discoveries_fdr/iterations})\")"
   ]
  },
  {
   "cell_type": "markdown",
   "id": "7bf075bb-6c63-4a6f-99d4-eeff7d219c15",
   "metadata": {},
   "source": [
    "## Power Analysis\n",
    "\n",
    "### Introduction\n",
    "\n",
    "Power analysis allows us to determine the probability that a statistical test will detect an effect when there is an effect to be detected. In the context of genetic association studies, this means evaluating the likelihood of detecting a true association between a genetic variant and a phenotype. \n",
    "\n",
    "### Task 1: Defining the `compute_power` Function\n",
    "\n",
    "**Function**: `compute_power`\n",
    "\n",
    "**Description**:  \n",
    "This function simulates datasets and calculates the power of a statistical test to detect an association between a genetic variant and a phenotype. It does this by comparing the p-values obtained from the tests to a significance threshold, after adjusting for multiple testing.\n",
    "\n",
    "**Input**:  \n",
    "- `N`: Sample size (e.g., 500)\n",
    "- `maf`: Minor allele frequency, which defines the frequency of the less common allele (e.g., 0.1)\n",
    "- `genotype_variance`: Variance explained by the genetic variant (e.g., 0.01)\n",
    "- `iterations`: Number of simulations (e.g., 1000)\n",
    "\n",
    "**Output**:\n",
    "- `power_bonferroni`: Power after adjusting p-values using the Bonferroni correction.\n",
    "- `power_fdr`: Power after adjusting p-values using the False Discovery Rate (FDR) method.\n",
    "\n",
    "### Task 2: Power Assessment\n",
    "\n",
    "Using the `compute_power` function, you'll assess the statistical power as a function of:\n",
    "\n",
    "1. **Sample Size**:\n",
    "   - Default values to start: `N = [200, 500, 1000, 2000]`\n",
    "   - Keep `maf` and `genotype_variance` constant.\n",
    "\n",
    "2. **Allele Frequency**:\n",
    "   - Default values to start: `maf = [0.05, 0.1, 0.2, 0.3]`\n",
    "   - Keep `N` and `genotype_variance` constant.\n",
    "\n",
    "3. **Genotype Variance**:\n",
    "   - Default values to start: `genotype_variance = [0.005, 0.01, 0.02, 0.05]`\n",
    "   - Keep `N` and `maf` constant.\n",
    "\n",
    "For each parameter set in the above scenarios, loop through its values, use the `compute_power` function, and visualize the power using bar plots. This will allow you to see how power changes as a function of sample size, allele frequency, and genotype variance.\n"
   ]
  },
  {
   "cell_type": "code",
   "execution_count": 24,
   "id": "f3c3e32d-9955-4707-a03e-32cce7adfb11",
   "metadata": {},
   "outputs": [],
   "source": [
    "def compute_power(N, maf, genotype_variance, iterations):\n",
    "    # Simulate phenotypes and genotypes for the specified number of iterations\n",
    "    p_values = []\n",
    "    for _ in range(iterations):\n",
    "        # fill\n",
    "        p_values.append(pval)\n",
    "\n",
    "    # Apply multiple testing corrections -> rejected_bonferroni, rejected_fdr\n",
    "\n",
    "    # Compute power for each correction method\n",
    "\n",
    "    return power_bonferroni, power_fdr"
   ]
  },
  {
   "cell_type": "markdown",
   "id": "befd66fd-8822-448a-a7dc-89a51f341d6e",
   "metadata": {},
   "source": [
    "#### Varying sample size"
   ]
  },
  {
   "cell_type": "code",
   "execution_count": 26,
   "id": "1d5a68b3-7eee-46b3-9705-636a5cbf50ed",
   "metadata": {},
   "outputs": [
    {
     "name": "stderr",
     "output_type": "stream",
     "text": [
      "100%|█████████████████████████████████████████████| 4/4 [00:01<00:00,  2.23it/s]\n"
     ]
    },
    {
     "data": {
      "image/png": "[encoded data removed]",
      "text/plain": [
       "<Figure size 720x432 with 1 Axes>"
      ]
     },
     "metadata": {},
     "output_type": "display_data"
    }
   ],
   "source": [
    "# Parameters\n",
    "Ns = [200, 500, 1000, 2000]\n",
    "maf = 0.1\n",
    "genotype_variance = 0.05\n",
    "iterations = 1000"
   ]
  },
  {
   "cell_type": "markdown",
   "id": "48dd4879-6129-47b1-9b8d-8a7adf7dd7a6",
   "metadata": {},
   "source": [
    "#### Varying allele frequency"
   ]
  },
  {
   "cell_type": "code",
   "execution_count": 104,
   "id": "51c84b9f-55ba-4420-8d07-05ce252d3765",
   "metadata": {},
   "outputs": [
    {
     "name": "stderr",
     "output_type": "stream",
     "text": [
      "100%|██████████████████████████████████████████████████████████████████████████████████████████████████████████████████████████| 4/4 [00:01<00:00,  2.33it/s]\n"
     ]
    },
    {
     "data": {
      "image/png": "[encoded data removed]",
      "text/plain": [
       "<Figure size 720x432 with 1 Axes>"
      ]
     },
     "metadata": {},
     "output_type": "display_data"
    }
   ],
   "source": [
    "# Parameters\n",
    "N = 500\n",
    "maf_values = [0.05, 0.1, 0.2, 0.5]\n",
    "genotype_variance = 0.01\n",
    "iterations = 1000"
   ]
  },
  {
   "cell_type": "markdown",
   "id": "3210acd8-5d83-4882-b79d-b4b08e49753b",
   "metadata": {},
   "source": [
    "#### Varying genotype variance"
   ]
  },
  {
   "cell_type": "code",
   "execution_count": null,
   "id": "2bfdda18-c7cc-4a7e-b2ac-569323a13dad",
   "metadata": {},
   "outputs": [],
   "source": [
    "# Parameters\n",
    "N = 2000\n",
    "maf = 0.1\n",
    "genotype_variance_values = [0.005, 0.01, 0.02, 0.05]\n",
    "iterations = 1000"
   ]
  },
  {
   "cell_type": "markdown",
   "id": "82d001d7-d766-4bcc-8e4b-3e8ad8d7bcfd",
   "metadata": {},
   "source": [
    "#### Questions:\n",
    "* Complete compute_power function\n",
    "* evaluate power at differnet Ns, allele frequency and genotype variance. What do you see?\n",
    "* Make bar plot to visualize results"
   ]
  },
  {
   "cell_type": "code",
   "execution_count": null,
   "id": "852b2075-9fd7-407b-adcc-1b4cbace01ba",
   "metadata": {},
   "outputs": [],
   "source": []
  }
 ],
 "metadata": {
  "kernelspec": {
   "display_name": "Python 3 (ipykernel)",
   "language": "python",
   "name": "python3"
  },
  "language_info": {
   "codemirror_mode": {
    "name": "ipython",
    "version": 3
   },
   "file_extension": ".py",
   "mimetype": "text/x-python",
   "name": "python",
   "nbconvert_exporter": "python",
   "pygments_lexer": "ipython3",
   "version": "3.9.7"
  }
 },
 "nbformat": 4,
 "nbformat_minor": 5
}
